{
 "cells": [
  {
   "cell_type": "markdown",
   "id": "fe2c7ab6",
   "metadata": {},
   "source": [
    "# Credit Risk Modelling – Data Preprocessing\n",
    "\n",
    "## 1. Load Data\n",
    "Load loan dataset and create backup copy.\n",
    "\n",
    "## 2. Sanity Checks\n",
    "Inspect shape, missing values, and data types.\n",
    "\n",
    "## 3. Feature Cleaning\n",
    "- Employment length (`emp_length`)\n",
    "- Earliest credit line (`earliest_cr_line`)\n",
    "- Loan status / default variable\n",
    "\n",
    "## 4. Train-Test Split\n",
    "Prepare features and labels for modelling."
   ]
  },
  {
   "cell_type": "code",
   "execution_count": 1,
   "id": "ce702c25",
   "metadata": {},
   "outputs": [
    {
     "name": "stderr",
     "output_type": "stream",
     "text": [
      "/tmp/ipykernel_85994/3532449719.py:4: DtypeWarning: Columns (6,9,10,11,12,13,15,16,17,18,19,20,21,22,23,24,27,36,46,48,49,53) have mixed types. Specify dtype option on import or set low_memory=False.\n",
      "  df = pd.read_csv(file_path)\n"
     ]
    },
    {
     "data": {
      "text/html": [
       "<div>\n",
       "<style scoped>\n",
       "    .dataframe tbody tr th:only-of-type {\n",
       "        vertical-align: middle;\n",
       "    }\n",
       "\n",
       "    .dataframe tbody tr th {\n",
       "        vertical-align: top;\n",
       "    }\n",
       "\n",
       "    .dataframe thead th {\n",
       "        text-align: right;\n",
       "    }\n",
       "</style>\n",
       "<table border=\"1\" class=\"dataframe\">\n",
       "  <thead>\n",
       "    <tr style=\"text-align: right;\">\n",
       "      <th></th>\n",
       "      <th>id</th>\n",
       "      <th>member_id</th>\n",
       "      <th>loan_amnt</th>\n",
       "      <th>funded_amnt</th>\n",
       "      <th>funded_amnt_inv</th>\n",
       "      <th>term</th>\n",
       "      <th>int_rate</th>\n",
       "      <th>installment</th>\n",
       "      <th>grade</th>\n",
       "      <th>sub_grade</th>\n",
       "      <th>...</th>\n",
       "      <th>total_bal_il</th>\n",
       "      <th>il_util</th>\n",
       "      <th>open_rv_12m</th>\n",
       "      <th>open_rv_24m</th>\n",
       "      <th>max_bal_bc</th>\n",
       "      <th>all_util</th>\n",
       "      <th>total_rev_hi_lim</th>\n",
       "      <th>inq_fi</th>\n",
       "      <th>total_cu_tl</th>\n",
       "      <th>inq_last_12m</th>\n",
       "    </tr>\n",
       "  </thead>\n",
       "  <tbody>\n",
       "    <tr>\n",
       "      <th>0</th>\n",
       "      <td>1077501.0</td>\n",
       "      <td>1296599.0</td>\n",
       "      <td>5000.0</td>\n",
       "      <td>5000.0</td>\n",
       "      <td>4975.0</td>\n",
       "      <td>36 months</td>\n",
       "      <td>10.65</td>\n",
       "      <td>162.87</td>\n",
       "      <td>B</td>\n",
       "      <td>B2</td>\n",
       "      <td>...</td>\n",
       "      <td>NaN</td>\n",
       "      <td>NaN</td>\n",
       "      <td>NaN</td>\n",
       "      <td>NaN</td>\n",
       "      <td>NaN</td>\n",
       "      <td>NaN</td>\n",
       "      <td>NaN</td>\n",
       "      <td>NaN</td>\n",
       "      <td>NaN</td>\n",
       "      <td>NaN</td>\n",
       "    </tr>\n",
       "    <tr>\n",
       "      <th>1</th>\n",
       "      <td>1077430.0</td>\n",
       "      <td>1314167.0</td>\n",
       "      <td>2500.0</td>\n",
       "      <td>2500.0</td>\n",
       "      <td>2500.0</td>\n",
       "      <td>60 months</td>\n",
       "      <td>15.27</td>\n",
       "      <td>59.83</td>\n",
       "      <td>C</td>\n",
       "      <td>C4</td>\n",
       "      <td>...</td>\n",
       "      <td>NaN</td>\n",
       "      <td>NaN</td>\n",
       "      <td>NaN</td>\n",
       "      <td>NaN</td>\n",
       "      <td>NaN</td>\n",
       "      <td>NaN</td>\n",
       "      <td>NaN</td>\n",
       "      <td>NaN</td>\n",
       "      <td>NaN</td>\n",
       "      <td>NaN</td>\n",
       "    </tr>\n",
       "    <tr>\n",
       "      <th>2</th>\n",
       "      <td>1077175.0</td>\n",
       "      <td>1313524.0</td>\n",
       "      <td>2400.0</td>\n",
       "      <td>2400.0</td>\n",
       "      <td>2400.0</td>\n",
       "      <td>36 months</td>\n",
       "      <td>15.96</td>\n",
       "      <td>84.33</td>\n",
       "      <td>C</td>\n",
       "      <td>C5</td>\n",
       "      <td>...</td>\n",
       "      <td>NaN</td>\n",
       "      <td>NaN</td>\n",
       "      <td>NaN</td>\n",
       "      <td>NaN</td>\n",
       "      <td>NaN</td>\n",
       "      <td>NaN</td>\n",
       "      <td>NaN</td>\n",
       "      <td>NaN</td>\n",
       "      <td>NaN</td>\n",
       "      <td>NaN</td>\n",
       "    </tr>\n",
       "    <tr>\n",
       "      <th>3</th>\n",
       "      <td>1076863.0</td>\n",
       "      <td>1277178.0</td>\n",
       "      <td>10000.0</td>\n",
       "      <td>10000.0</td>\n",
       "      <td>10000.0</td>\n",
       "      <td>36 months</td>\n",
       "      <td>13.49</td>\n",
       "      <td>339.31</td>\n",
       "      <td>C</td>\n",
       "      <td>C1</td>\n",
       "      <td>...</td>\n",
       "      <td>NaN</td>\n",
       "      <td>NaN</td>\n",
       "      <td>NaN</td>\n",
       "      <td>NaN</td>\n",
       "      <td>NaN</td>\n",
       "      <td>NaN</td>\n",
       "      <td>NaN</td>\n",
       "      <td>NaN</td>\n",
       "      <td>NaN</td>\n",
       "      <td>NaN</td>\n",
       "    </tr>\n",
       "    <tr>\n",
       "      <th>4</th>\n",
       "      <td>1075358.0</td>\n",
       "      <td>1311748.0</td>\n",
       "      <td>3000.0</td>\n",
       "      <td>3000.0</td>\n",
       "      <td>3000.0</td>\n",
       "      <td>60 months</td>\n",
       "      <td>12.69</td>\n",
       "      <td>67.79</td>\n",
       "      <td>B</td>\n",
       "      <td>B5</td>\n",
       "      <td>...</td>\n",
       "      <td>NaN</td>\n",
       "      <td>NaN</td>\n",
       "      <td>NaN</td>\n",
       "      <td>NaN</td>\n",
       "      <td>NaN</td>\n",
       "      <td>NaN</td>\n",
       "      <td>NaN</td>\n",
       "      <td>NaN</td>\n",
       "      <td>NaN</td>\n",
       "      <td>NaN</td>\n",
       "    </tr>\n",
       "  </tbody>\n",
       "</table>\n",
       "<p>5 rows × 74 columns</p>\n",
       "</div>"
      ],
      "text/plain": [
       "          id  member_id  loan_amnt  funded_amnt  funded_amnt_inv        term  \\\n",
       "0  1077501.0  1296599.0     5000.0       5000.0           4975.0   36 months   \n",
       "1  1077430.0  1314167.0     2500.0       2500.0           2500.0   60 months   \n",
       "2  1077175.0  1313524.0     2400.0       2400.0           2400.0   36 months   \n",
       "3  1076863.0  1277178.0    10000.0      10000.0          10000.0   36 months   \n",
       "4  1075358.0  1311748.0     3000.0       3000.0           3000.0   60 months   \n",
       "\n",
       "   int_rate  installment grade sub_grade  ... total_bal_il il_util  \\\n",
       "0     10.65       162.87     B        B2  ...          NaN     NaN   \n",
       "1     15.27        59.83     C        C4  ...          NaN     NaN   \n",
       "2     15.96        84.33     C        C5  ...          NaN     NaN   \n",
       "3     13.49       339.31     C        C1  ...          NaN     NaN   \n",
       "4     12.69        67.79     B        B5  ...          NaN     NaN   \n",
       "\n",
       "  open_rv_12m  open_rv_24m max_bal_bc all_util total_rev_hi_lim inq_fi  \\\n",
       "0         NaN          NaN        NaN      NaN              NaN    NaN   \n",
       "1         NaN          NaN        NaN      NaN              NaN    NaN   \n",
       "2         NaN          NaN        NaN      NaN              NaN    NaN   \n",
       "3         NaN          NaN        NaN      NaN              NaN    NaN   \n",
       "4         NaN          NaN        NaN      NaN              NaN    NaN   \n",
       "\n",
       "  total_cu_tl inq_last_12m  \n",
       "0         NaN          NaN  \n",
       "1         NaN          NaN  \n",
       "2         NaN          NaN  \n",
       "3         NaN          NaN  \n",
       "4         NaN          NaN  \n",
       "\n",
       "[5 rows x 74 columns]"
      ]
     },
     "execution_count": 1,
     "metadata": {},
     "output_type": "execute_result"
    }
   ],
   "source": [
    "import pandas as pd\n",
    "\n",
    "file_path = r\"loan_data.csv\"\n",
    "df = pd.read_csv(file_path)\n",
    "\n",
    "# Clean DataFrame\n",
    "df = pd.read_csv(\"loan_data.csv\", low_memory=False)\n",
    "df = df.dropna(how=\"all\")\n",
    "df = df.loc[:, ~df.columns.str.startswith(\"Unnamed\")]\n",
    "\n",
    "loan_backup = df.copy()\n",
    "\n",
    "df.head()"
   ]
  },
  {
   "cell_type": "code",
   "execution_count": null,
   "id": "9b5eea64",
   "metadata": {},
   "outputs": [],
   "source": [
    "df.tail()"
   ]
  },
  {
   "cell_type": "code",
   "execution_count": null,
   "id": "eec6326c",
   "metadata": {},
   "outputs": [],
   "source": [
    "pd.options.display.max_columns = None"
   ]
  },
  {
   "cell_type": "code",
   "execution_count": null,
   "id": "bcde1495",
   "metadata": {},
   "outputs": [],
   "source": [
    "df.head()"
   ]
  },
  {
   "cell_type": "code",
   "execution_count": null,
   "id": "ca0f0db1",
   "metadata": {},
   "outputs": [],
   "source": [
    "df.tail()"
   ]
  },
  {
   "cell_type": "code",
   "execution_count": null,
   "id": "4a4bec37",
   "metadata": {},
   "outputs": [],
   "source": [
    "df.columns.values"
   ]
  },
  {
   "cell_type": "code",
   "execution_count": null,
   "id": "f48d1a7d",
   "metadata": {},
   "outputs": [],
   "source": [
    "df.info()"
   ]
  },
  {
   "cell_type": "code",
   "execution_count": null,
   "id": "f7ad1144",
   "metadata": {},
   "outputs": [],
   "source": [
    "df['emp_length'].unique()"
   ]
  },
  {
   "cell_type": "code",
   "execution_count": null,
   "id": "10185c5f",
   "metadata": {},
   "outputs": [],
   "source": [
    "#df['emp_length'] = df['emp_length_int']\n",
    "\n",
    "df['emp_length_int'] = df['emp_length'].str.replace('+ years', '')\n",
    "df['emp_length_int'] = df['emp_length'].str.replace('+< years', str(0))\n",
    "df['emp_length_int'] = df['emp_length'].str.replace(' years', str(0))"
   ]
  },
  {
   "cell_type": "code",
   "execution_count": null,
   "id": "1d8c2380",
   "metadata": {},
   "outputs": [],
   "source": [
    "type(df['emp_length_int'][0])"
   ]
  },
  {
   "cell_type": "code",
   "execution_count": null,
   "id": "e1b5872d",
   "metadata": {},
   "outputs": [],
   "source": [
    "# Convert str to integer\n",
    "df['emp_length_int'] = pd.to_numeric(df['emp_length_int'], errors='coerce')"
   ]
  },
  {
   "cell_type": "code",
   "execution_count": null,
   "id": "42696154",
   "metadata": {},
   "outputs": [],
   "source": [
    "type(df['emp_length_int'][0])"
   ]
  },
  {
   "cell_type": "code",
   "execution_count": null,
   "id": "2a75330b",
   "metadata": {},
   "outputs": [],
   "source": [
    "df['earliest_cr_line']"
   ]
  },
  {
   "cell_type": "code",
   "execution_count": null,
   "id": "cbe31d39",
   "metadata": {},
   "outputs": [],
   "source": [
    "df['earliest_cr_line_date'] = pd.to_datetime(df['earliest_cr_line'], format='%b-%y', errors='coerce')\n",
    "\n",
    "# Fixing years that are incorrectly parsed (assuming dates before 2025 should be in the 1900s)\n",
    "df.loc[df['earliest_cr_line_date'].dt.year > 2025, 'earliest_cr_line_date'] -= pd.DateOffset(years=100)"
   ]
  },
  {
   "cell_type": "code",
   "execution_count": null,
   "id": "782b5541",
   "metadata": {},
   "outputs": [],
   "source": [
    "type(df['earliest_cr_line_date'][0])"
   ]
  },
  {
   "cell_type": "code",
   "execution_count": null,
   "id": "5990faa4",
   "metadata": {},
   "outputs": [],
   "source": [
    "# Calculate overall time that has passed after the earliest credit line\n",
    "pd.to_datetime('2025-09-14') - df['earliest_cr_line_date']"
   ]
  },
  {
   "cell_type": "code",
   "execution_count": null,
   "id": "e936bbc9",
   "metadata": {},
   "outputs": [],
   "source": [
    "df['earliest_cr_line_date_month'] = round(pd.to_datetime('2025-09-14') - df['earliest_cr_line_date']).dt.days/30.44"
   ]
  },
  {
   "cell_type": "code",
   "execution_count": null,
   "id": "2d785626",
   "metadata": {},
   "outputs": [],
   "source": [
    "df['earliest_cr_line_date_month'].describe()"
   ]
  },
  {
   "cell_type": "code",
   "execution_count": null,
   "id": "bfa6afac",
   "metadata": {},
   "outputs": [],
   "source": [
    "\n",
    "# Create a new binary column 'default': 1 if risky status, else 0\n",
    "df['default'] = df['loan_status'].apply(\n",
    "    lambda x: 1 if x in ['Charged Off', 'Default', 'Late (31-120 days)', 'Late (16-30 days)'] else 0\n",
    ")\n",
    "\n",
    "# Print the count of defaults (1) vs non-defaults (0)\n",
    "print(\"Default variable distribution:\")\n",
    "print(df['default'].value_counts())\n",
    "\n",
    "# Print how many loans fall into each original loan_status category\n",
    "print(\"\\nLoan status distribution:\")\n",
    "print(df['loan_status'].value_counts())"
   ]
  },
  {
   "cell_type": "code",
   "execution_count": null,
   "id": "945e6adf",
   "metadata": {},
   "outputs": [],
   "source": [
    "from sklearn.model_selection import train_test_split\n",
    "\n",
    "# Drop rows where target column 'loan_status' is missing (can't be used in training/ testing)\n",
    "df = df.dropna(subset=['loan_status'])\n",
    "\n",
    "# Seperate features (X) from the target variable(y)\n",
    "X = df.drop(columns='loan_status')\n",
    "y = df['loan_status']\n",
    "\n",
    "# Split dataset into traning (80%) and testing sets (20%) with a fixed state for reproducibility\n",
    "X_train, X_test, y_train, y_test = train_test_split(\n",
    "    X, y, test_size=0.2, stratify=y, random_state=16)\n",
    "\n",
    "print(\"Training features shape:\", X_train.shape)  \n",
    "print(\"Training labels shape:\", X_train.shape)    \n",
    "print(\"Test features shape:\", X_test.shape)       \n",
    "print(\"Test labels shape:\", X_test.shape)      "
   ]
  }
 ],
 "metadata": {
  "kernelspec": {
   "display_name": "Python (credit-risk)",
   "language": "python",
   "name": "credit-risk"
  },
  "language_info": {
   "codemirror_mode": {
    "name": "ipython",
    "version": 3
   },
   "file_extension": ".py",
   "mimetype": "text/x-python",
   "name": "python",
   "nbconvert_exporter": "python",
   "pygments_lexer": "ipython3",
   "version": "3.10.12"
  }
 },
 "nbformat": 4,
 "nbformat_minor": 5
}
